{
 "cells": [
  {
   "cell_type": "code",
   "execution_count": 2,
   "metadata": {},
   "outputs": [],
   "source": [
    "# Import numpy.\n",
    "import numpy as np\n",
    "from random import randint"
   ]
  },
  {
   "cell_type": "code",
   "execution_count": 22,
   "metadata": {},
   "outputs": [],
   "source": [
    "A = np.zeros([3,3])\n",
    "while np.linalg.det(A)==0:\n",
    "    A = np.random.randint(0,10,(3,3))"
   ]
  },
  {
   "cell_type": "code",
   "execution_count": 23,
   "metadata": {},
   "outputs": [
    {
     "data": {
      "text/plain": [
       "array([[6, 2, 5],\n",
       "       [8, 1, 5],\n",
       "       [4, 7, 0]])"
      ]
     },
     "execution_count": 23,
     "metadata": {},
     "output_type": "execute_result"
    }
   ],
   "source": [
    "A"
   ]
  },
  {
   "cell_type": "code",
   "execution_count": 33,
   "metadata": {},
   "outputs": [
    {
     "data": {
      "text/plain": [
       "array([[18, 15, 14,  0, 12, 15],\n",
       "       [22,  5, 19,  0,  8,  5],\n",
       "       [18, 13,  9, 15, 14,  5]])"
      ]
     },
     "execution_count": 33,
     "metadata": {},
     "output_type": "execute_result"
    }
   ],
   "source": [
    "#RON LOVES HERMIONE\n",
    "#01234567891011121314151617181920212223242526\n",
    "# ABCDEFGHIJ K L M N O P Q R S T U V W X Y Z\n",
    "B = np.array([[18,15,14,0,12,15],[22,5,19,0,8,5],[18,13,9,15,14,5]])\n",
    "B"
   ]
  },
  {
   "cell_type": "code",
   "execution_count": 34,
   "metadata": {},
   "outputs": [
    {
     "data": {
      "text/plain": [
       "array([[242, 165, 167,  75, 158, 125],\n",
       "       [256, 190, 176,  75, 174, 150],\n",
       "       [226,  95, 189,   0, 104,  95]])"
      ]
     },
     "execution_count": 34,
     "metadata": {},
     "output_type": "execute_result"
    }
   ],
   "source": [
    "#Multiply matrix A and matrix B\n",
    "AB = A.dot(B)\n",
    "AB"
   ]
  },
  {
   "cell_type": "code",
   "execution_count": 32,
   "metadata": {},
   "outputs": [
    {
     "name": "stdout",
     "output_type": "stream",
     "text": [
      "[[5 3 6]\n",
      " [2 0 5]\n",
      " [2 2 0]]\n",
      "[[ 15 265 133 205 105]\n",
      " [  0 171  91 115  36]\n",
      " [ 10  46  18  46  46]]\n",
      "[[-2.5   3.    3.75]\n",
      " [ 2.5  -3.   -3.25]\n",
      " [ 1.   -1.   -1.5 ]]\n",
      "[[-0. 23.  8.  5. 18.]\n",
      " [ 5.  0.  1. 18.  5.]\n",
      " [ 0. 25. 15. 21.  0.]]\n"
     ]
    }
   ],
   "source": [
    "#Kyra Kemp\n",
    "kyra = np.array([[5,3,6],[2,0,5],[2,2,0]])\n",
    "kemp = np.array([[15,265,133,205,105],[0,171,91,115,36],[10,46,18,46,46]])\n",
    "CInverse = np.linalg.inv(kyra)\n",
    "CDecode = np.matmul(CInverse, kemp) \n",
    "np.set_printoptions(precision=2)\n",
    "print\n",
    "print(kyra)\n",
    "print(kemp)\n",
    "print(CInverse)\n",
    "print(np.around(CDecode, 0))"
   ]
  },
  {
   "cell_type": "code",
   "execution_count": 33,
   "metadata": {},
   "outputs": [],
   "source": [
    "#01234567891011121314151617181920212223242526\n",
    "# ABCDEFGHIJ K L M N O P Q R S T U V W X Y Z\n",
    "#0,23,8,5,18,5,0,1,18,5,0,25,15,21,0\n",
    "# WHERE A RE YOU"
   ]
  },
  {
   "cell_type": "code",
   "execution_count": 34,
   "metadata": {},
   "outputs": [
    {
     "name": "stdout",
     "output_type": "stream",
     "text": [
      "[[5 5 0]\n",
      " [0 3 7]\n",
      " [1 8 6]]\n",
      "[[ 20 100 115  50]\n",
      " [ 35 155  30  62]\n",
      " [ 34 237  62 103]]\n",
      "[[ 0.25  0.19 -0.23]\n",
      " [-0.05 -0.19  0.23]\n",
      " [ 0.02  0.23 -0.1 ]]\n",
      "[[ 4.  1. 20.  1.]\n",
      " [-0. 19.  3.  9.]\n",
      " [ 5. 14.  3.  5.]]\n"
     ]
    }
   ],
   "source": [
    "#Michael Pawlenko\n",
    "michael = np.array([[5,5,0],[0,3,7],[1,8,6]])\n",
    "pawlenko = np.array([[20,100,115,50],[35,155,30,62],[34,237,62,103]])\n",
    "DInverse = np.linalg.inv(michael)\n",
    "DDecode = np.matmul(DInverse, pawlenko) \n",
    "np.set_printoptions(precision=2)\n",
    "print\n",
    "print(michael)\n",
    "print(pawlenko)\n",
    "print(DInverse)\n",
    "print(np.around(DDecode, 0))"
   ]
  },
  {
   "cell_type": "code",
   "execution_count": 35,
   "metadata": {},
   "outputs": [],
   "source": [
    "#01234567891011121314151617181920212223242526\n",
    "# ABCDEFGHIJ K L M N O P Q R S T U V W X Y Z\n",
    "#4,1,20,1,0,19,3,9,5,14,3,5\n",
    "#DATA SCIENCE"
   ]
  },
  {
   "cell_type": "code",
   "execution_count": 36,
   "metadata": {},
   "outputs": [
    {
     "name": "stdout",
     "output_type": "stream",
     "text": [
      "[[0 1 0]\n",
      " [0 8 7]\n",
      " [2 0 0]]\n",
      "[[ 15  13   5   0  19  20]\n",
      " [127 279 173   7 194 195]\n",
      " [ 38  40   2  50   0  16]]\n",
      "[[ 0.00e+00  0.00e+00  5.00e-01]\n",
      " [ 1.00e+00  6.94e-18  0.00e+00]\n",
      " [-1.14e+00  1.43e-01 -0.00e+00]]\n",
      "[[19. 20.  1. 25.  0.  8.]\n",
      " [15. 13.  5.  0. 19. 20.]\n",
      " [ 1. 25. 19.  1.  6.  5.]]\n"
     ]
    }
   ],
   "source": [
    "#Mashall Jahangir\n",
    "mashall = np.array([[0,1,0],[0,8,7],[2,0,0]])\n",
    "jahangir = np.array([[15,13,5,0,19,20],[127,279,173,7,194,195],[38,40,2,50,0,16]])\n",
    "EInverse = np.linalg.inv(mashall)\n",
    "EDecode = np.matmul(EInverse, jahangir) \n",
    "np.set_printoptions(precision=2)\n",
    "print\n",
    "print(mashall)\n",
    "print(jahangir)\n",
    "print(EInverse)\n",
    "print(np.around(EDecode, 0))"
   ]
  },
  {
   "cell_type": "code",
   "execution_count": 37,
   "metadata": {},
   "outputs": [],
   "source": [
    "#01234567891011121314151617181920212223242526\n",
    "# ABCDEFGHIJ K L M N O P Q R S T U V W X Y Z\n",
    "#19,20,1,25,0,8,15,13,5,0,19,20,1,25,19,1,6,5\n",
    "#STAY HOME STAYSAFE"
   ]
  },
  {
   "cell_type": "code",
   "execution_count": 38,
   "metadata": {},
   "outputs": [
    {
     "name": "stdout",
     "output_type": "stream",
     "text": [
      "[[3 1 1]\n",
      " [7 5 4]\n",
      " [2 3 4]]\n",
      "[[ 15  64  41 103  10  23  72  36  27]\n",
      " [ 42 186 149 337  45 105 198 139 116]\n",
      " [ 18 101  74 202  35  64 108  74 100]]\n",
      "[[ 0.53 -0.07 -0.07]\n",
      " [-1.33  0.67 -0.33]\n",
      " [ 0.73 -0.47  0.53]]\n",
      "[[ 4. 15.  7. 19. -0.  1. 18.  5. -0.]\n",
      " [ 2.  5. 20. 20.  5. 18.  0. 20.  8.]\n",
      " [ 1. 14.  0. 26.  5.  2. 18.  1. 19.]]\n"
     ]
    }
   ],
   "source": [
    "#Timothy Chatman\n",
    "timothy = np.array([[3,1,1],[7,5,4],[2,3,4]])\n",
    "chatman = np.array([[15,64,41,103,10,23,72,36,27],[42,186,149,337,45,105,198,139,116],[18,101,74,202,35,64,108,74,100]])\n",
    "FInverse = np.linalg.inv(timothy)\n",
    "FDecode = np.matmul(FInverse, chatman) \n",
    "np.set_printoptions(precision=2)\n",
    "print\n",
    "print(timothy)\n",
    "print(chatman)\n",
    "print(FInverse)\n",
    "print(np.around(FDecode, 0))"
   ]
  },
  {
   "cell_type": "code",
   "execution_count": 39,
   "metadata": {},
   "outputs": [],
   "source": [
    "#01234567891011121314151617181920212223242526\n",
    "# ABCDEFGHIJ K L M N O P Q R S T U V W X Y Z\n",
    "#4,15,7,19,0,1,18,5,0,2,5,20,20,5,18,0,20,8,1,14,0,26,5,2,18,1,19\n",
    "#DOGS ARE BETTER THAN ZEBRAS"
   ]
  },
  {
   "cell_type": "code",
   "execution_count": 40,
   "metadata": {},
   "outputs": [
    {
     "name": "stdout",
     "output_type": "stream",
     "text": [
      "[[6 5 7]\n",
      " [5 9 9]\n",
      " [8 7 2]]\n",
      "[[276 175 154 177]\n",
      " [353 170 160 248]\n",
      " [233 235 132 107]]\n",
      "[[ 0.21 -0.18  0.08]\n",
      " [-0.28  0.2   0.09]\n",
      " [ 0.17  0.01 -0.13]]\n",
      "[[13. 25. 14.  1.]\n",
      " [13.  5. -0.  9.]\n",
      " [19.  0. 10. 18.]]\n"
     ]
    }
   ],
   "source": [
    "#Jordan Bickelhaupt\n",
    "jordan = np.array([[6,5,7],[5,9,9],[8,7,2]])\n",
    "bickelhaupt = np.array([[276,175,154,177],[353,170,160,248],[233,235,132,107]])\n",
    "GInverse = np.linalg.inv(jordan)\n",
    "GDecode = np.matmul(GInverse, bickelhaupt) \n",
    "np.set_printoptions(precision=2)\n",
    "print\n",
    "print(jordan)\n",
    "print(bickelhaupt)\n",
    "print(GInverse)\n",
    "print(np.around(GDecode, 0))"
   ]
  },
  {
   "cell_type": "code",
   "execution_count": 41,
   "metadata": {},
   "outputs": [],
   "source": [
    "#01234567891011121314151617181920212223242526\n",
    "# ABCDEFGHIJ K L M N O P Q R S T U V W X Y Z\n",
    "#13,25,14,1,13,5,0,9,19,0,10,18\n",
    "#MYNAME IS JR"
   ]
  },
  {
   "cell_type": "code",
   "execution_count": 42,
   "metadata": {},
   "outputs": [
    {
     "name": "stdout",
     "output_type": "stream",
     "text": [
      "[[6 3 2]\n",
      " [7 1 4]\n",
      " [1 8 9]]\n",
      "[[ 61   6 182  59  59]\n",
      " [ 77   7 184  48 103]\n",
      " [ 61   1 170  86 249]]\n",
      "[[ 0.11  0.05 -0.05]\n",
      " [ 0.29 -0.25  0.05]\n",
      " [-0.27  0.22  0.07]]\n",
      "[[ 8.  1. 22.  5.  0.]\n",
      " [ 1.  0. 14.  9.  3.]\n",
      " [ 5. -0.  4.  1. 25.]]\n"
     ]
    }
   ],
   "source": [
    "#Danyah Khan\n",
    "danyah = np.array([[6,3,2],[7,1,4],[1,8,9]])\n",
    "khan = np.array([[61,6,182,59,59],[77,7,184,48,103],[61,1,170,86,249]])\n",
    "IInverse = np.linalg.inv(danyah)\n",
    "IDecode = np.matmul(IInverse, khan) \n",
    "np.set_printoptions(precision=2)\n",
    "print\n",
    "print(danyah)\n",
    "print(khan)\n",
    "print(IInverse)\n",
    "print(np.around(IDecode, 0))"
   ]
  },
  {
   "cell_type": "code",
   "execution_count": 43,
   "metadata": {},
   "outputs": [],
   "source": [
    "#01234567891011121314151617181920212223242526\n",
    "# ABCDEFGHIJ K L M N O P Q R S T U V W X Y Z\n",
    "#8,1,22,5,0,1,0,14,9,3,5,0,4,1,25\n",
    "#HAVE A NICE DAY"
   ]
  },
  {
   "cell_type": "code",
   "execution_count": null,
   "metadata": {},
   "outputs": [],
   "source": []
  }
 ],
 "metadata": {
  "kernelspec": {
   "display_name": "Python 3",
   "language": "python",
   "name": "python3"
  },
  "language_info": {
   "codemirror_mode": {
    "name": "ipython",
    "version": 3
   },
   "file_extension": ".py",
   "mimetype": "text/x-python",
   "name": "python",
   "nbconvert_exporter": "python",
   "pygments_lexer": "ipython3",
   "version": "3.7.4"
  }
 },
 "nbformat": 4,
 "nbformat_minor": 2
}
