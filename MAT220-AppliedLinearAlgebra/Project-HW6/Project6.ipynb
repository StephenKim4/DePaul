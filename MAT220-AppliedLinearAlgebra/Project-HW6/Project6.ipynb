{
 "cells": [
  {
   "cell_type": "code",
   "execution_count": 21,
   "metadata": {},
   "outputs": [
    {
     "name": "stdout",
     "output_type": "stream",
     "text": [
      "Project 3 Matrix:\n",
      "[[0.38 0.73]\n",
      " [0.62 0.27]]\n",
      "Results:\n",
      "[ 1.   -0.35]\n",
      "[[ 0.7621968742 -0.7071067812]\n",
      " [ 0.6473452904  0.7071067812]]\n",
      "Eigenvalue 1 & Eigenvector 1:\n",
      "1.0\n",
      "[[0.7621968742]\n",
      " [0.6473452904]]\n",
      "Eigenvalue 2 & Eigenvector 2:\n",
      "-0.35\n",
      "[[-0.7071067812]\n",
      " [ 0.7071067812]]\n"
     ]
    }
   ],
   "source": [
    "import numpy as np\n",
    "\n",
    "#Project 3 Matrix \n",
    "m1 = np.matrix('0.38 0.73 ; 0.62 0.27')\n",
    "w1, v1 = np.linalg.eig(m1)\n",
    "print(\"Project 3 Matrix:\")\n",
    "print(m1)\n",
    "print(\"Results:\")\n",
    "print(w1)\n",
    "print(v1)\n",
    "print(\"Eigenvalue 1 & Eigenvector 1:\")\n",
    "print(w1[0])\n",
    "print(v1[:,0])\n",
    "print(\"Eigenvalue 2 & Eigenvector 2:\")\n",
    "print(w1[1])\n",
    "print(v1[:,1])\n"
   ]
  },
  {
   "cell_type": "markdown",
   "metadata": {},
   "source": [
    "The results of getting the eigenvalues and eigenvectors for the matrix in project 3 are above. I read that a steady-state vector of a regular Markov chain is an eigenvector for the transition matrix corresponding to the eigenvalue 1, so that would be the 1st Eigenvalue and Eigenvector. The 2nd eigenvalue and eigenvector doesn't really make sense because they have negative numbers. The eigenvector corresponding to λ1 holds the values 0.7621968742 and 0.6473452904, which represent the steady-state vectore, meaning the approximate final vector reached if the Markov chain is run infinite number of times. The two numbers also directly correlate to the project 3 results of the vector [54.07396169, 45.92603831], which was reached after running the Markov chain 10 times. The ratio of the eigevector values and the project 3 vector results show that the higher value is ~1.1774 times larger than the lower value. This shows that the eigenvector represents the steady-sate vector of the Markov chain. So the Eigenvector shows that if the total percentage is 141 and the vector values are normalized to represent a total percentage of 100%, then the total number of cars that end up in city A is 54.074% and the percent of cars that end up in city B is 45.926%. \n"
   ]
  },
  {
   "cell_type": "code",
   "execution_count": 23,
   "metadata": {},
   "outputs": [
    {
     "name": "stdout",
     "output_type": "stream",
     "text": [
      "Project 5 Matrix:\n",
      "[[1.0000011074 0.           0.           0.          ]\n",
      " [0.0000655823 0.9914979223 0.           0.          ]\n",
      " [0.           0.0069673501 1.           0.          ]\n",
      " [0.           0.0015347277 0.           1.          ]]\n",
      "Results:\n",
      "[1.           1.           0.9914979223 1.0000011074]\n",
      "[[ 0.            0.            0.            0.0201212716]\n",
      " [ 0.            0.            0.7660316554  0.0001551888]\n",
      " [ 0.            1.           -0.6277536996  0.9763905092]\n",
      " [ 1.            0.           -0.1382779648  0.2150736706]]\n",
      "Eigenvalue 1 & Eigenvector 1:\n",
      "1.0\n",
      "[[0.]\n",
      " [0.]\n",
      " [0.]\n",
      " [1.]]\n",
      "Eigenvalue 2 & Eigenvector 2:\n",
      "1.0\n",
      "[[0.]\n",
      " [0.]\n",
      " [1.]\n",
      " [0.]]\n",
      "Eigenvalue 3 & Eigenvector 3:\n",
      "0.9914979223\n",
      "[[ 0.          ]\n",
      " [ 0.7660316554]\n",
      " [-0.6277536996]\n",
      " [-0.1382779648]]\n",
      "Eigenvalue 4 & Eigenvector 4:\n",
      "1.0000011074\n",
      "[[0.0201212716]\n",
      " [0.0001551888]\n",
      " [0.9763905092]\n",
      " [0.2150736706]]\n"
     ]
    }
   ],
   "source": [
    "#Project 5 Matrix\n",
    "m2 = np.matrix('1.0000011074 0 0 0; 0.0000655823 0.9914979223 0 0; 0 0.0069673501 1 0; 0 0.0015347277 0 1')\n",
    "w2, v2 = np.linalg.eig(m2)\n",
    "np.set_printoptions(suppress=True)\n",
    "print(\"Project 5 Matrix:\")\n",
    "print(m2)\n",
    "print(\"Results:\")\n",
    "print(w2)\n",
    "print(v2)\n",
    "print(\"Eigenvalue 1 & Eigenvector 1:\")\n",
    "print(w2[0])\n",
    "print(v2[:,0])\n",
    "print(\"Eigenvalue 2 & Eigenvector 2:\")\n",
    "print(w2[1])\n",
    "print(v2[:,1])\n",
    "print(\"Eigenvalue 3 & Eigenvector 3:\")\n",
    "print(w2[2])\n",
    "print(v2[:,2])\n",
    "print(\"Eigenvalue 4 & Eigenvector 4:\")\n",
    "print(w2[3])\n",
    "print(v2[:,3])\n",
    "\n"
   ]
  },
  {
   "cell_type": "markdown",
   "metadata": {},
   "source": [
    "The function numpy.linalg.eig() returns 4 eigenvalues and their respective eigenvectors for the matrix from project 5. The daily vector contains the numbers representing [susceptible, infected, recovered, and died]. If the eigenvectors represent the steady-state vectors corresponding to each eigenvalue, then the four eigenvectors can represent the following: \n",
    "    1. The first eigenvector shows a steady state where it looks like everyone dies. \n",
    "    2. The second eigenvector shows a steady state where everyone recovers. \n",
    "    3. The thirdd eigenvector shows the most people ending up infected and a negative value for recovered and deaths, which does not make sense. \n",
    "    4. The fourth vector shows that over time, the amount of susceptible people has a value of 0.02, or 1.66% of the total amount of people. The amount of people infected has a value of 0.000155, and represents 0.0013% of the population. The amount of people recovered has a value of 0.9764, and represents 80.58% of the population. The number of deaths has a value of 0.215 and represents 17.75% of the population. \n",
    "The fourth eigenvector shows the most believable model out of the four. It shows that over time everyone will eventually get sick and that over an infinite amount of time about 2% of the population will be susceptible to the covid and 0.0013% of the population will be infected by the disease. If all people lived long enough to contract the virus and recover, then 80.58% of the population would get the disease and survive, however 17.75% of the population would eventually die. \n",
    "    "
   ]
  },
  {
   "cell_type": "code",
   "execution_count": null,
   "metadata": {},
   "outputs": [],
   "source": []
  }
 ],
 "metadata": {
  "kernelspec": {
   "display_name": "Python 3",
   "language": "python",
   "name": "python3"
  },
  "language_info": {
   "codemirror_mode": {
    "name": "ipython",
    "version": 3
   },
   "file_extension": ".py",
   "mimetype": "text/x-python",
   "name": "python",
   "nbconvert_exporter": "python",
   "pygments_lexer": "ipython3",
   "version": "3.7.4"
  }
 },
 "nbformat": 4,
 "nbformat_minor": 2
}
