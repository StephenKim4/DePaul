{
 "cells": [
  {
   "cell_type": "code",
   "execution_count": 1,
   "metadata": {},
   "outputs": [],
   "source": [
    "import numpy as np\n",
    "from random import random"
   ]
  },
  {
   "cell_type": "code",
   "execution_count": 2,
   "metadata": {},
   "outputs": [
    {
     "name": "stdout",
     "output_type": "stream",
     "text": [
      "x = 0.62,  y = 0.73\n"
     ]
    }
   ],
   "source": [
    "x = random()\n",
    "y = random()\n",
    "print(\"x = {:.2f}, \".format(x),\"y = {:.2f}\".format(y))"
   ]
  },
  {
   "cell_type": "markdown",
   "metadata": {},
   "source": [
    "AA = 0.38<br>\n",
    "AB = x = 0.62<br>\n",
    "BA = y = 0.73<br>\n",
    "BB = 0.27<br>"
   ]
  },
  {
   "cell_type": "code",
   "execution_count": 3,
   "metadata": {},
   "outputs": [
    {
     "name": "stdout",
     "output_type": "stream",
     "text": [
      "[[0.38 0.73]\n",
      " [0.62 0.27]]\n"
     ]
    }
   ],
   "source": [
    "M = np.matrix('0.38 0.73 ; 0.62 0.27')\n",
    "print(M)"
   ]
  },
  {
   "cell_type": "code",
   "execution_count": 11,
   "metadata": {},
   "outputs": [
    {
     "name": "stdout",
     "output_type": "stream",
     "text": [
      "v0 = \n",
      "[[50]\n",
      " [50]]\n"
     ]
    }
   ],
   "source": [
    "v = np.matrix('50; 50');\n",
    "print(\"v0 = \")\n",
    "print(v)"
   ]
  },
  {
   "cell_type": "code",
   "execution_count": 12,
   "metadata": {},
   "outputs": [
    {
     "name": "stdout",
     "output_type": "stream",
     "text": [
      "v0:\n",
      "[[50]\n",
      " [50]]\n",
      "v1: \n",
      "[[55.5]\n",
      " [44.5]]\n",
      "v2: \n",
      "[[53.575]\n",
      " [46.425]]\n",
      "v3: \n",
      "[[54.24875]\n",
      " [45.75125]]\n",
      "v4: \n",
      "[[54.0129375]\n",
      " [45.9870625]]\n",
      "v5: \n",
      "[[54.09547188]\n",
      " [45.90452813]]\n",
      "v6: \n",
      "[[54.06658484]\n",
      " [45.93341516]]\n",
      "v7: \n",
      "[[54.0766953]\n",
      " [45.9233047]]\n",
      "v8: \n",
      "[[54.07315664]\n",
      " [45.92684336]]\n",
      "v9: \n",
      "[[54.07439517]\n",
      " [45.92560483]]\n",
      "v10: \n",
      "[[54.07396169]\n",
      " [45.92603831]]\n"
     ]
    }
   ],
   "source": [
    "print(\"v0:\")\n",
    "print(v)\n",
    "for i in range(10):\n",
    "    print(\"v{}: \".format(i + 1))\n",
    "    print(M * v)\n",
    "    v = M * v\n",
    "    "
   ]
  },
  {
   "cell_type": "markdown",
   "metadata": {},
   "source": [
    "Looking at the results, we can expect Vn to be around (54.1, 45.9). The more iterations there are, the closer each element in the vertex gets to the same numbers as the previous iteration."
   ]
  },
  {
   "cell_type": "code",
   "execution_count": 16,
   "metadata": {},
   "outputs": [
    {
     "name": "stdout",
     "output_type": "stream",
     "text": [
      "M = \n",
      "[[0.38 0.73]\n",
      " [0.62 0.27]]\n",
      "v0 = \n",
      "[[10]\n",
      " [90]]\n",
      "v1: \n",
      "[[69.5]\n",
      " [30.5]]\n",
      "v2: \n",
      "[[48.675]\n",
      " [51.325]]\n",
      "v3: \n",
      "[[55.96375]\n",
      " [44.03625]]\n",
      "v4: \n",
      "[[53.4126875]\n",
      " [46.5873125]]\n",
      "v5: \n",
      "[[54.30555937]\n",
      " [45.69444062]]\n",
      "v6: \n",
      "[[53.99305422]\n",
      " [46.00694578]]\n",
      "v7: \n",
      "[[54.10243102]\n",
      " [45.89756898]]\n",
      "v8: \n",
      "[[54.06414914]\n",
      " [45.93585086]]\n",
      "v9: \n",
      "[[54.0775478]\n",
      " [45.9224522]]\n",
      "v10: \n",
      "[[54.07285827]\n",
      " [45.92714173]]\n"
     ]
    }
   ],
   "source": [
    "v = np.matrix('10; 90');\n",
    "print(\"M = \")\n",
    "print(M)\n",
    "print(\"v0 = \")\n",
    "print(v)\n",
    "\n",
    "\n",
    "for i in range(10):\n",
    "    print(\"v{}: \".format(i + 1))\n",
    "    print(M * v)\n",
    "    v = M * v"
   ]
  },
  {
   "cell_type": "markdown",
   "metadata": {},
   "source": [
    "Looking at the results, we can expect Vn to once again be around (54.1, 45.9). The more iterations there are, the closer each element in the vertex gets to the same numbers as the previous iteration. This time, it took a few more iterations to level out perhaps because the distributin of cars have a larger difference."
   ]
  },
  {
   "cell_type": "code",
   "execution_count": 18,
   "metadata": {},
   "outputs": [
    {
     "name": "stdout",
     "output_type": "stream",
     "text": [
      "M = \n",
      "[[0.38 0.73]\n",
      " [0.62 0.27]]\n",
      "v0 = \n",
      "[[90]\n",
      " [10]]\n",
      "v1: \n",
      "[[41.5]\n",
      " [58.5]]\n",
      "v2: \n",
      "[[58.475]\n",
      " [41.525]]\n",
      "v3: \n",
      "[[52.53375]\n",
      " [47.46625]]\n",
      "v4: \n",
      "[[54.6131875]\n",
      " [45.3868125]]\n",
      "v5: \n",
      "[[53.88538437]\n",
      " [46.11461562]]\n",
      "v6: \n",
      "[[54.14011547]\n",
      " [45.85988453]]\n",
      "v7: \n",
      "[[54.05095959]\n",
      " [45.94904041]]\n",
      "v8: \n",
      "[[54.08216414]\n",
      " [45.91783586]]\n",
      "v9: \n",
      "[[54.07124255]\n",
      " [45.92875745]]\n",
      "v10: \n",
      "[[54.07506511]\n",
      " [45.92493489]]\n"
     ]
    }
   ],
   "source": [
    "v = np.matrix('90; 10');\n",
    "print(\"M = \")\n",
    "print(M)\n",
    "print(\"v0 = \")\n",
    "print(v)\n",
    "\n",
    "\n",
    "for i in range(10):\n",
    "    print(\"v{}: \".format(i + 1))\n",
    "    print(M * v)\n",
    "    v = M * v"
   ]
  },
  {
   "cell_type": "markdown",
   "metadata": {},
   "source": [
    "Looking at the results, we can expect Vn to once again be around (54.1, 45.9). The more iterations there are, the closer each element in the vertex gets to the same numbers as the previous iteration. This time, The first few iterations are different than the previouis two examples, but they all end up at the same place."
   ]
  },
  {
   "cell_type": "markdown",
   "metadata": {},
   "source": [
    "The long term stock of cars in the two cities does not depend on how many cars start out in each city. As seen in the examples, regardless of the starting amount in each city, they all move towards the same points after each iteration. The larger the separation between starting amounts, the more iterations it will take to settle. What would change the long term stock of cars would be to change the matrix. "
   ]
  },
  {
   "cell_type": "code",
   "execution_count": null,
   "metadata": {},
   "outputs": [],
   "source": []
  }
 ],
 "metadata": {
  "kernelspec": {
   "display_name": "Python 3",
   "language": "python",
   "name": "python3"
  },
  "language_info": {
   "codemirror_mode": {
    "name": "ipython",
    "version": 3
   },
   "file_extension": ".py",
   "mimetype": "text/x-python",
   "name": "python",
   "nbconvert_exporter": "python",
   "pygments_lexer": "ipython3",
   "version": "3.7.4"
  }
 },
 "nbformat": 4,
 "nbformat_minor": 2
}
